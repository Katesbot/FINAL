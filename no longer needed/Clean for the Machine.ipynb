{
 "cells": [
  {
   "cell_type": "code",
   "execution_count": 1,
   "metadata": {},
   "outputs": [],
   "source": [
    "import pandas as pd"
   ]
  },
  {
   "cell_type": "code",
   "execution_count": null,
   "metadata": {},
   "outputs": [],
   "source": [
    "#Cleaning the data"
   ]
  },
  {
   "cell_type": "code",
   "execution_count": 33,
   "metadata": {},
   "outputs": [
    {
     "data": {
      "text/plain": [
       "Index(['Timestamp', 'Do you agree to participate?', 'Birth Date ', 'Gender',\n",
       "       'Ethnicity ', 'Home Location', 'Education', 'Marital Status ',\n",
       "       'Please select a type of chocolate.', 'Please select a type of cheese',\n",
       "       'Please select a type of alcohol (other than wine)',\n",
       "       'How do you like your tea/coffee', 'Select a type of candy',\n",
       "       'Please choose a scent group', 'Choose a salad dressing',\n",
       "       'Choose a wine category', 'I like my wine to be.... ',\n",
       "       'From the list below, select Red Wines you enjoy',\n",
       "       'From the list below, select Rose Wines you enjoy',\n",
       "       'From the list below, select White Wines you enjoy'],\n",
       "      dtype='object')"
      ]
     },
     "execution_count": 33,
     "metadata": {},
     "output_type": "execute_result"
    }
   ],
   "source": [
    "Dataset_df = pd.read_csv(\"WineRecommendationNUM.csv\")\n",
    "Dataset_df.columns"
   ]
  },
  {
   "cell_type": "code",
   "execution_count": 34,
   "metadata": {},
   "outputs": [],
   "source": [
    "Dataset_df_renamed = Dataset_df.rename(columns={'Do you agree to participate?': 'Agreement', 'Birth Date ': 'DOB',\n",
    "       'Home Location': 'Location','Marital Status ': 'Marital_status',\n",
    "       'Please select a type of chocolate.': 'Chocolate', 'Please select a type of cheese': 'Cheese',\n",
    "       'Please select a type of alcohol (other than wine)': 'Alcohol',\n",
    "       'How do you like your tea/coffee': 'Coffee_tea', 'Select a type of candy': 'Candy',\n",
    "       'Please choose a scent group': 'Scent', 'Choose a salad dressing': 'Dressing',\n",
    "       'Choose a wine category': 'Wine_catagory', 'I like my wine to be.... ': 'Taste_profile',\n",
    "       'From the list below, select Red Wines you enjoy': 'Red_selections',\n",
    "       'From the list below, select Rose Wines you enjoy': 'Rose_selections',\n",
    "       'From the list below, select White Wines you enjoy': 'White_selections'})"
   ]
  },
  {
   "cell_type": "code",
   "execution_count": 35,
   "metadata": {},
   "outputs": [
    {
     "data": {
      "text/html": [
       "<div>\n",
       "<style scoped>\n",
       "    .dataframe tbody tr th:only-of-type {\n",
       "        vertical-align: middle;\n",
       "    }\n",
       "\n",
       "    .dataframe tbody tr th {\n",
       "        vertical-align: top;\n",
       "    }\n",
       "\n",
       "    .dataframe thead th {\n",
       "        text-align: right;\n",
       "    }\n",
       "</style>\n",
       "<table border=\"1\" class=\"dataframe\">\n",
       "  <thead>\n",
       "    <tr style=\"text-align: right;\">\n",
       "      <th></th>\n",
       "      <th>DOB</th>\n",
       "      <th>Gender</th>\n",
       "      <th>Ethnicity</th>\n",
       "      <th>Location</th>\n",
       "      <th>Education</th>\n",
       "      <th>Marital_status</th>\n",
       "      <th>Chocolate</th>\n",
       "      <th>Cheese</th>\n",
       "      <th>Alcohol</th>\n",
       "      <th>Coffee_tea</th>\n",
       "      <th>Candy</th>\n",
       "      <th>Scent</th>\n",
       "      <th>Dressing</th>\n",
       "      <th>Wine_catagory</th>\n",
       "      <th>Taste_profile</th>\n",
       "      <th>Red_selections</th>\n",
       "      <th>Rose_selections</th>\n",
       "      <th>White_selections</th>\n",
       "    </tr>\n",
       "  </thead>\n",
       "  <tbody>\n",
       "    <tr>\n",
       "      <th>0</th>\n",
       "      <td>9/21/1989</td>\n",
       "      <td>Female</td>\n",
       "      <td>White / Caucasian</td>\n",
       "      <td>United States of America</td>\n",
       "      <td>Trade School</td>\n",
       "      <td>Single (Never Married)</td>\n",
       "      <td>Dark Chocolate</td>\n",
       "      <td>Firm/Semi-firm (Cheddar, Gouda, Parmesan)</td>\n",
       "      <td>Whiskey/Scotch</td>\n",
       "      <td>Tea/coffee with a little milk &amp;/or cream</td>\n",
       "      <td>Sour (Sour patch kids, Warheads, Lemonheads)</td>\n",
       "      <td>Citrus, Floral, Herbal</td>\n",
       "      <td>Vinegar/Vinaigrettes (Balsamic, Oil &amp; Vinegar,...</td>\n",
       "      <td>White</td>\n",
       "      <td>Fruity;Floral</td>\n",
       "      <td>Red - Merlot;Red - Syrah</td>\n",
       "      <td>Rose - Pink Moscato;Rose - White Merlot</td>\n",
       "      <td>White - Chardonnay;White - Pinot Grigio;White ...</td>\n",
       "    </tr>\n",
       "    <tr>\n",
       "      <th>1</th>\n",
       "      <td>4/23/1990</td>\n",
       "      <td>Female</td>\n",
       "      <td>White/Caucasian</td>\n",
       "      <td>United States of America</td>\n",
       "      <td>Bachelor's Degree</td>\n",
       "      <td>Married</td>\n",
       "      <td>Dark Chocolate</td>\n",
       "      <td>Firm/Semi-firm (Cheddar, Gouda, Parmesan)</td>\n",
       "      <td>Vodka</td>\n",
       "      <td>Tea/coffee with a little milk &amp;/or cream</td>\n",
       "      <td>Fruity (Skittles, Starburst, Jolly Ranchers)</td>\n",
       "      <td>Wood, Tobacco, Musk</td>\n",
       "      <td>Vinegar/Vinaigrettes (Balsamic, Oil &amp; Vinegar,...</td>\n",
       "      <td>Red</td>\n",
       "      <td>Floral</td>\n",
       "      <td>Red - Cabernet sauvignon;Red - Pinot noir;Red ...</td>\n",
       "      <td>Rose - Pinot Noir</td>\n",
       "      <td>White - Chardonnay;White - Pinot Grigio</td>\n",
       "    </tr>\n",
       "    <tr>\n",
       "      <th>2</th>\n",
       "      <td>33284</td>\n",
       "      <td>Male</td>\n",
       "      <td>Latino or Hispanic</td>\n",
       "      <td>United States of America</td>\n",
       "      <td>Master's Degree</td>\n",
       "      <td>Single (Never Married)</td>\n",
       "      <td>Dark Chocolate</td>\n",
       "      <td>Soft (Brie, Camembert, Munster)</td>\n",
       "      <td>Tequila</td>\n",
       "      <td>Black (with nothing added)</td>\n",
       "      <td>I do not eat candy</td>\n",
       "      <td>Clean Linen,  Fresh Air, Seaside</td>\n",
       "      <td>Vinegar/Vinaigrettes (Balsamic, Oil &amp; Vinegar,...</td>\n",
       "      <td>Red</td>\n",
       "      <td>Dry</td>\n",
       "      <td>Red - Malbec;Red - Nebbiolo;Red - Merlot</td>\n",
       "      <td>Rose - Syrah;Rose - Pinot Noir</td>\n",
       "      <td>White - Chardonnay</td>\n",
       "    </tr>\n",
       "    <tr>\n",
       "      <th>3</th>\n",
       "      <td>32304</td>\n",
       "      <td>Female</td>\n",
       "      <td>White/Caucasian</td>\n",
       "      <td>United States of America</td>\n",
       "      <td>Bachelor's Degree</td>\n",
       "      <td>Married</td>\n",
       "      <td>Dark Chocolate</td>\n",
       "      <td>Soft (Brie, Camembert, Munster)</td>\n",
       "      <td>Tequila</td>\n",
       "      <td>Tea/coffee with a little milk &amp;/or cream</td>\n",
       "      <td>Candy Bar (Snicker, Milky way, Twix)</td>\n",
       "      <td>Wood, Tobacco, Musk</td>\n",
       "      <td>Vinegar/Vinaigrettes (Balsamic, Oil &amp; Vinegar,...</td>\n",
       "      <td>Red</td>\n",
       "      <td>Dry;Bold</td>\n",
       "      <td>Red - Cabernet sauvignon;Red - Pinot noir</td>\n",
       "      <td>Rose - Pinot Noir;Rose - Pink Moscato</td>\n",
       "      <td>White - Chardonnay;White - Sauvignon Blanc</td>\n",
       "    </tr>\n",
       "    <tr>\n",
       "      <th>4</th>\n",
       "      <td>20832</td>\n",
       "      <td>Female</td>\n",
       "      <td>White/Caucasian</td>\n",
       "      <td>United States of America</td>\n",
       "      <td>Master's Degree</td>\n",
       "      <td>Divorced</td>\n",
       "      <td>Milk Chocolate</td>\n",
       "      <td>Firm/Semi-firm (Cheddar, Gouda, Parmesan)</td>\n",
       "      <td>Tequila</td>\n",
       "      <td>Black (with nothing added)</td>\n",
       "      <td>Sour (Sour patch kids, Warheads, Lemonheads)</td>\n",
       "      <td>Wood, Tobacco, Musk</td>\n",
       "      <td>Vinegar/Vinaigrettes (Balsamic, Oil &amp; Vinegar,...</td>\n",
       "      <td>White</td>\n",
       "      <td>Bold</td>\n",
       "      <td>Red - Pinot noir;Red - Zinfandel</td>\n",
       "      <td>Rose - Pinot Noir</td>\n",
       "      <td>White - Chardonnay</td>\n",
       "    </tr>\n",
       "  </tbody>\n",
       "</table>\n",
       "</div>"
      ],
      "text/plain": [
       "         DOB  Gender          Ethnicity                   Location  \\\n",
       "0  9/21/1989  Female   White / Caucasian  United States of America   \n",
       "1  4/23/1990  Female     White/Caucasian  United States of America   \n",
       "2      33284    Male  Latino or Hispanic  United States of America   \n",
       "3      32304  Female     White/Caucasian  United States of America   \n",
       "4      20832  Female     White/Caucasian  United States of America   \n",
       "\n",
       "           Education          Marital_status       Chocolate  \\\n",
       "0       Trade School  Single (Never Married)  Dark Chocolate   \n",
       "1  Bachelor's Degree                 Married  Dark Chocolate   \n",
       "2    Master's Degree  Single (Never Married)  Dark Chocolate   \n",
       "3  Bachelor's Degree                 Married  Dark Chocolate   \n",
       "4    Master's Degree                Divorced  Milk Chocolate   \n",
       "\n",
       "                                      Cheese         Alcohol  \\\n",
       "0  Firm/Semi-firm (Cheddar, Gouda, Parmesan)  Whiskey/Scotch   \n",
       "1  Firm/Semi-firm (Cheddar, Gouda, Parmesan)           Vodka   \n",
       "2            Soft (Brie, Camembert, Munster)         Tequila   \n",
       "3            Soft (Brie, Camembert, Munster)         Tequila   \n",
       "4  Firm/Semi-firm (Cheddar, Gouda, Parmesan)         Tequila   \n",
       "\n",
       "                                 Coffee_tea  \\\n",
       "0  Tea/coffee with a little milk &/or cream   \n",
       "1  Tea/coffee with a little milk &/or cream   \n",
       "2                Black (with nothing added)   \n",
       "3  Tea/coffee with a little milk &/or cream   \n",
       "4                Black (with nothing added)   \n",
       "\n",
       "                                          Candy  \\\n",
       "0  Sour (Sour patch kids, Warheads, Lemonheads)   \n",
       "1  Fruity (Skittles, Starburst, Jolly Ranchers)   \n",
       "2                            I do not eat candy   \n",
       "3          Candy Bar (Snicker, Milky way, Twix)   \n",
       "4  Sour (Sour patch kids, Warheads, Lemonheads)   \n",
       "\n",
       "                              Scent  \\\n",
       "0            Citrus, Floral, Herbal   \n",
       "1               Wood, Tobacco, Musk   \n",
       "2  Clean Linen,  Fresh Air, Seaside   \n",
       "3               Wood, Tobacco, Musk   \n",
       "4               Wood, Tobacco, Musk   \n",
       "\n",
       "                                            Dressing Wine_catagory  \\\n",
       "0  Vinegar/Vinaigrettes (Balsamic, Oil & Vinegar,...         White   \n",
       "1  Vinegar/Vinaigrettes (Balsamic, Oil & Vinegar,...           Red   \n",
       "2  Vinegar/Vinaigrettes (Balsamic, Oil & Vinegar,...           Red   \n",
       "3  Vinegar/Vinaigrettes (Balsamic, Oil & Vinegar,...           Red   \n",
       "4  Vinegar/Vinaigrettes (Balsamic, Oil & Vinegar,...         White   \n",
       "\n",
       "   Taste_profile                                     Red_selections  \\\n",
       "0  Fruity;Floral                           Red - Merlot;Red - Syrah   \n",
       "1         Floral  Red - Cabernet sauvignon;Red - Pinot noir;Red ...   \n",
       "2            Dry           Red - Malbec;Red - Nebbiolo;Red - Merlot   \n",
       "3       Dry;Bold          Red - Cabernet sauvignon;Red - Pinot noir   \n",
       "4           Bold                   Red - Pinot noir;Red - Zinfandel   \n",
       "\n",
       "                           Rose_selections  \\\n",
       "0  Rose - Pink Moscato;Rose - White Merlot   \n",
       "1                        Rose - Pinot Noir   \n",
       "2           Rose - Syrah;Rose - Pinot Noir   \n",
       "3    Rose - Pinot Noir;Rose - Pink Moscato   \n",
       "4                        Rose - Pinot Noir   \n",
       "\n",
       "                                    White_selections  \n",
       "0  White - Chardonnay;White - Pinot Grigio;White ...  \n",
       "1            White - Chardonnay;White - Pinot Grigio  \n",
       "2                                 White - Chardonnay  \n",
       "3         White - Chardonnay;White - Sauvignon Blanc  \n",
       "4                                 White - Chardonnay  "
      ]
     },
     "execution_count": 35,
     "metadata": {},
     "output_type": "execute_result"
    }
   ],
   "source": [
    "Dataset_df_renamed = Dataset_df_renamed.drop(columns=[\"Timestamp\",\"Agreement\"])\n",
    "Dataset_df_renamed.head()"
   ]
  },
  {
   "cell_type": "code",
   "execution_count": null,
   "metadata": {},
   "outputs": [],
   "source": [
    "# Machine Learning with Neural Algorithm"
   ]
  },
  {
   "cell_type": "code",
   "execution_count": 2,
   "metadata": {},
   "outputs": [],
   "source": [
    "from numpy.random import seed\n",
    "seed(1)"
   ]
  },
  {
   "cell_type": "code",
   "execution_count": 3,
   "metadata": {},
   "outputs": [],
   "source": [
    "import numpy as np\n",
    "import pandas as pd\n",
    "\n",
    "import warnings\n",
    "warnings.simplefilter('ignore', FutureWarning)"
   ]
  },
  {
   "cell_type": "code",
   "execution_count": 4,
   "metadata": {},
   "outputs": [
    {
     "data": {
      "text/html": [
       "<div>\n",
       "<style scoped>\n",
       "    .dataframe tbody tr th:only-of-type {\n",
       "        vertical-align: middle;\n",
       "    }\n",
       "\n",
       "    .dataframe tbody tr th {\n",
       "        vertical-align: top;\n",
       "    }\n",
       "\n",
       "    .dataframe thead th {\n",
       "        text-align: right;\n",
       "    }\n",
       "</style>\n",
       "<table border=\"1\" class=\"dataframe\">\n",
       "  <thead>\n",
       "    <tr style=\"text-align: right;\">\n",
       "      <th></th>\n",
       "      <th>Age</th>\n",
       "      <th>Gender</th>\n",
       "      <th>Ethnicity</th>\n",
       "      <th>Home Location</th>\n",
       "      <th>Education</th>\n",
       "      <th>Marital Status</th>\n",
       "      <th>chocolate</th>\n",
       "      <th>cheese</th>\n",
       "      <th>alcohol</th>\n",
       "      <th>tea/coffee</th>\n",
       "      <th>candy</th>\n",
       "      <th>scent</th>\n",
       "      <th>salad dressing</th>\n",
       "      <th>wine</th>\n",
       "    </tr>\n",
       "  </thead>\n",
       "  <tbody>\n",
       "    <tr>\n",
       "      <th>0</th>\n",
       "      <td>30</td>\n",
       "      <td>1</td>\n",
       "      <td>1</td>\n",
       "      <td>1</td>\n",
       "      <td>1</td>\n",
       "      <td>1</td>\n",
       "      <td>1</td>\n",
       "      <td>1</td>\n",
       "      <td>1</td>\n",
       "      <td>1</td>\n",
       "      <td>1</td>\n",
       "      <td>1</td>\n",
       "      <td>1</td>\n",
       "      <td>2</td>\n",
       "    </tr>\n",
       "    <tr>\n",
       "      <th>1</th>\n",
       "      <td>30</td>\n",
       "      <td>1</td>\n",
       "      <td>1</td>\n",
       "      <td>1</td>\n",
       "      <td>2</td>\n",
       "      <td>2</td>\n",
       "      <td>1</td>\n",
       "      <td>1</td>\n",
       "      <td>2</td>\n",
       "      <td>1</td>\n",
       "      <td>2</td>\n",
       "      <td>2</td>\n",
       "      <td>1</td>\n",
       "      <td>1</td>\n",
       "    </tr>\n",
       "    <tr>\n",
       "      <th>2</th>\n",
       "      <td>29</td>\n",
       "      <td>2</td>\n",
       "      <td>2</td>\n",
       "      <td>1</td>\n",
       "      <td>3</td>\n",
       "      <td>1</td>\n",
       "      <td>1</td>\n",
       "      <td>2</td>\n",
       "      <td>3</td>\n",
       "      <td>2</td>\n",
       "      <td>3</td>\n",
       "      <td>3</td>\n",
       "      <td>1</td>\n",
       "      <td>1</td>\n",
       "    </tr>\n",
       "    <tr>\n",
       "      <th>3</th>\n",
       "      <td>32</td>\n",
       "      <td>1</td>\n",
       "      <td>1</td>\n",
       "      <td>1</td>\n",
       "      <td>2</td>\n",
       "      <td>2</td>\n",
       "      <td>1</td>\n",
       "      <td>2</td>\n",
       "      <td>3</td>\n",
       "      <td>1</td>\n",
       "      <td>4</td>\n",
       "      <td>2</td>\n",
       "      <td>1</td>\n",
       "      <td>1</td>\n",
       "    </tr>\n",
       "    <tr>\n",
       "      <th>4</th>\n",
       "      <td>63</td>\n",
       "      <td>1</td>\n",
       "      <td>1</td>\n",
       "      <td>1</td>\n",
       "      <td>3</td>\n",
       "      <td>3</td>\n",
       "      <td>2</td>\n",
       "      <td>1</td>\n",
       "      <td>3</td>\n",
       "      <td>2</td>\n",
       "      <td>1</td>\n",
       "      <td>2</td>\n",
       "      <td>1</td>\n",
       "      <td>2</td>\n",
       "    </tr>\n",
       "  </tbody>\n",
       "</table>\n",
       "</div>"
      ],
      "text/plain": [
       "   Age  Gender  Ethnicity   Home Location  Education  Marital Status   \\\n",
       "0   30       1           1              1          1                1   \n",
       "1   30       1           1              1          2                2   \n",
       "2   29       2           2              1          3                1   \n",
       "3   32       1           1              1          2                2   \n",
       "4   63       1           1              1          3                3   \n",
       "\n",
       "   chocolate  cheese  alcohol  tea/coffee  candy  scent  salad dressing  wine  \n",
       "0          1       1        1           1      1      1               1     2  \n",
       "1          1       1        2           1      2      2               1     1  \n",
       "2          1       2        3           2      3      3               1     1  \n",
       "3          1       2        3           1      4      2               1     1  \n",
       "4          2       1        3           2      1      2               1     2  "
      ]
     },
     "execution_count": 4,
     "metadata": {},
     "output_type": "execute_result"
    }
   ],
   "source": [
    "recommendations = pd.read_csv(\"WineRecommendationNUM.csv\")\n",
    "recommendations.head()"
   ]
  },
  {
   "cell_type": "code",
   "execution_count": 5,
   "metadata": {},
   "outputs": [
    {
     "name": "stdout",
     "output_type": "stream",
     "text": [
      "(134, 13) (134,)\n"
     ]
    }
   ],
   "source": [
    "X = recommendations.drop(\"wine\", axis=1)\n",
    "y = recommendations[\"wine\"]\n",
    "print(X.shape, y.shape)\n",
    "\n",
    "from sklearn.model_selection import train_test_split\n",
    "from sklearn.preprocessing import LabelEncoder, MinMaxScaler\n",
    "from tensorflow.keras.utils import to_categorical\n",
    "\n",
    "X_train, X_test, y_train, y_test = train_test_split(X, y, random_state=1)\n",
    "X_scaler = MinMaxScaler().fit(X_train)\n",
    "X_train_scaled = X_scaler.transform(X_train)\n",
    "X_test_scaled = X_scaler.transform(X_test)\n",
    "\n",
    "\n",
    "# Step 1: Label-encode data set\n",
    "label_encoder = LabelEncoder()\n",
    "label_encoder.fit(y_train)\n",
    "encoded_y_train = label_encoder.transform(y_train)\n",
    "encoded_y_test = label_encoder.transform(y_test)\n",
    "\n",
    "# Step 2: Convert encoded labels to one-hot-encoding\n",
    "y_train_categorical = to_categorical(encoded_y_train)\n",
    "y_test_categorical = to_categorical(encoded_y_test)"
   ]
  },
  {
   "cell_type": "code",
   "execution_count": 6,
   "metadata": {},
   "outputs": [],
   "source": [
    "from tensorflow.keras.models import Sequential\n",
    "from tensorflow.keras.layers import Dense\n",
    "\n",
    "model = Sequential()\n",
    "model.add(Dense(units=100, activation='relu', input_dim=13))\n",
    "model.add(Dense(units=100, activation='relu'))\n",
    "model.add(Dense(units=3, activation='softmax'))"
   ]
  },
  {
   "cell_type": "code",
   "execution_count": 7,
   "metadata": {},
   "outputs": [
    {
     "data": {
      "text/plain": [
       "<tensorflow.python.keras.callbacks.History at 0x7fb53c079eb0>"
      ]
     },
     "execution_count": 7,
     "metadata": {},
     "output_type": "execute_result"
    }
   ],
   "source": [
    "model.compile(optimizer='adam',\n",
    "              loss='categorical_crossentropy',\n",
    "              metrics=['accuracy'])\n",
    "model.fit(\n",
    "    X_train_scaled,\n",
    "    y_train_categorical,\n",
    "    epochs=60,\n",
    "    shuffle=True,\n",
    "    verbose=0\n",
    ")"
   ]
  },
  {
   "cell_type": "code",
   "execution_count": 56,
   "metadata": {},
   "outputs": [
    {
     "name": "stdout",
     "output_type": "stream",
     "text": [
      "34/1 - 0s - loss: 1.4836 - accuracy: 0.4412\n",
      "Normal Neural Network - Loss: 1.1004826391444487, Accuracy: 0.44117647409439087\n"
     ]
    }
   ],
   "source": [
    "model_loss, model_accuracy = model.evaluate(\n",
    "    X_test_scaled, y_test_categorical, verbose=2)\n",
    "print(\n",
    "    f\"Normal Neural Network - Loss: {model_loss}, Accuracy: {model_accuracy}\")"
   ]
  },
  {
   "cell_type": "code",
   "execution_count": 58,
   "metadata": {},
   "outputs": [
    {
     "name": "stdout",
     "output_type": "stream",
     "text": [
      "[[9.9999917e-01 8.2909548e-07 7.2459353e-31]]\n"
     ]
    }
   ],
   "source": [
    "new_wine_data = [[30,1,1,1,1,1,1,1,1,1,1,1,1]]\n",
    "predicted_class = model.predict(new_wine_data)\n",
    "print(predicted_class)"
   ]
  },
  {
   "cell_type": "code",
   "execution_count": 59,
   "metadata": {},
   "outputs": [],
   "source": [
    "# Machine Learning with Logistic Algorithm"
   ]
  },
  {
   "cell_type": "code",
   "execution_count": 60,
   "metadata": {},
   "outputs": [
    {
     "name": "stdout",
     "output_type": "stream",
     "text": [
      "(134, 13) (134,)\n"
     ]
    }
   ],
   "source": [
    "X = recommendations.drop(\"wine\", axis=1)\n",
    "y = recommendations[\"wine\"]\n",
    "print(X.shape, y.shape)"
   ]
  },
  {
   "cell_type": "code",
   "execution_count": 61,
   "metadata": {},
   "outputs": [],
   "source": [
    "from sklearn.model_selection import train_test_split\n",
    "\n",
    "X_train, X_test, y_train, y_test = train_test_split(X, y, random_state=1)"
   ]
  },
  {
   "cell_type": "code",
   "execution_count": 62,
   "metadata": {},
   "outputs": [
    {
     "data": {
      "text/plain": [
       "LogisticRegression(C=1.0, class_weight=None, dual=False, fit_intercept=True,\n",
       "                   intercept_scaling=1, l1_ratio=None, max_iter=100,\n",
       "                   multi_class='auto', n_jobs=None, penalty='l2',\n",
       "                   random_state=None, solver='lbfgs', tol=0.0001, verbose=0,\n",
       "                   warm_start=False)"
      ]
     },
     "execution_count": 62,
     "metadata": {},
     "output_type": "execute_result"
    }
   ],
   "source": [
    "from sklearn.linear_model import LogisticRegression\n",
    "classifier = LogisticRegression()\n",
    "classifier"
   ]
  },
  {
   "cell_type": "code",
   "execution_count": 63,
   "metadata": {},
   "outputs": [
    {
     "name": "stderr",
     "output_type": "stream",
     "text": [
      "C:\\Users\\kcomo\\Anaconda3\\envs\\PythonClass\\lib\\site-packages\\sklearn\\linear_model\\_logistic.py:940: ConvergenceWarning: lbfgs failed to converge (status=1):\n",
      "STOP: TOTAL NO. of ITERATIONS REACHED LIMIT.\n",
      "\n",
      "Increase the number of iterations (max_iter) or scale the data as shown in:\n",
      "    https://scikit-learn.org/stable/modules/preprocessing.html\n",
      "Please also refer to the documentation for alternative solver options:\n",
      "    https://scikit-learn.org/stable/modules/linear_model.html#logistic-regression\n",
      "  extra_warning_msg=_LOGISTIC_SOLVER_CONVERGENCE_MSG)\n"
     ]
    },
    {
     "data": {
      "text/plain": [
       "LogisticRegression(C=1.0, class_weight=None, dual=False, fit_intercept=True,\n",
       "                   intercept_scaling=1, l1_ratio=None, max_iter=100,\n",
       "                   multi_class='auto', n_jobs=None, penalty='l2',\n",
       "                   random_state=None, solver='lbfgs', tol=0.0001, verbose=0,\n",
       "                   warm_start=False)"
      ]
     },
     "execution_count": 63,
     "metadata": {},
     "output_type": "execute_result"
    }
   ],
   "source": [
    "classifier.fit(X_train, y_train)"
   ]
  },
  {
   "cell_type": "code",
   "execution_count": 64,
   "metadata": {},
   "outputs": [
    {
     "name": "stdout",
     "output_type": "stream",
     "text": [
      "Training Data Score: 0.65\n",
      "Testing Data Score: 0.4117647058823529\n"
     ]
    }
   ],
   "source": [
    "print(f\"Training Data Score: {classifier.score(X_train, y_train)}\")\n",
    "print(f\"Testing Data Score: {classifier.score(X_test, y_test)}\")"
   ]
  },
  {
   "cell_type": "code",
   "execution_count": 65,
   "metadata": {},
   "outputs": [
    {
     "name": "stdout",
     "output_type": "stream",
     "text": [
      "First 10 Predictions:   [1 2 1 1 2 1 2 2 1 1]\n",
      "First 10 Actual labels: [2, 1, 2, 2, 2, 2, 3, 1, 1, 3]\n"
     ]
    }
   ],
   "source": [
    "predictions = classifier.predict(X_test)\n",
    "print(f\"First 10 Predictions:   {predictions[:10]}\")\n",
    "print(f\"First 10 Actual labels: {y_test[:10].tolist()}\")"
   ]
  },
  {
   "cell_type": "code",
   "execution_count": 66,
   "metadata": {},
   "outputs": [
    {
     "data": {
      "text/html": [
       "<div>\n",
       "<style scoped>\n",
       "    .dataframe tbody tr th:only-of-type {\n",
       "        vertical-align: middle;\n",
       "    }\n",
       "\n",
       "    .dataframe tbody tr th {\n",
       "        vertical-align: top;\n",
       "    }\n",
       "\n",
       "    .dataframe thead th {\n",
       "        text-align: right;\n",
       "    }\n",
       "</style>\n",
       "<table border=\"1\" class=\"dataframe\">\n",
       "  <thead>\n",
       "    <tr style=\"text-align: right;\">\n",
       "      <th></th>\n",
       "      <th>Prediction</th>\n",
       "      <th>Actual</th>\n",
       "    </tr>\n",
       "  </thead>\n",
       "  <tbody>\n",
       "    <tr>\n",
       "      <th>0</th>\n",
       "      <td>1</td>\n",
       "      <td>2</td>\n",
       "    </tr>\n",
       "    <tr>\n",
       "      <th>1</th>\n",
       "      <td>2</td>\n",
       "      <td>1</td>\n",
       "    </tr>\n",
       "    <tr>\n",
       "      <th>2</th>\n",
       "      <td>1</td>\n",
       "      <td>2</td>\n",
       "    </tr>\n",
       "    <tr>\n",
       "      <th>3</th>\n",
       "      <td>1</td>\n",
       "      <td>2</td>\n",
       "    </tr>\n",
       "    <tr>\n",
       "      <th>4</th>\n",
       "      <td>2</td>\n",
       "      <td>2</td>\n",
       "    </tr>\n",
       "    <tr>\n",
       "      <th>5</th>\n",
       "      <td>1</td>\n",
       "      <td>2</td>\n",
       "    </tr>\n",
       "    <tr>\n",
       "      <th>6</th>\n",
       "      <td>2</td>\n",
       "      <td>3</td>\n",
       "    </tr>\n",
       "    <tr>\n",
       "      <th>7</th>\n",
       "      <td>2</td>\n",
       "      <td>1</td>\n",
       "    </tr>\n",
       "    <tr>\n",
       "      <th>8</th>\n",
       "      <td>1</td>\n",
       "      <td>1</td>\n",
       "    </tr>\n",
       "    <tr>\n",
       "      <th>9</th>\n",
       "      <td>1</td>\n",
       "      <td>3</td>\n",
       "    </tr>\n",
       "    <tr>\n",
       "      <th>10</th>\n",
       "      <td>2</td>\n",
       "      <td>2</td>\n",
       "    </tr>\n",
       "    <tr>\n",
       "      <th>11</th>\n",
       "      <td>1</td>\n",
       "      <td>1</td>\n",
       "    </tr>\n",
       "    <tr>\n",
       "      <th>12</th>\n",
       "      <td>2</td>\n",
       "      <td>2</td>\n",
       "    </tr>\n",
       "    <tr>\n",
       "      <th>13</th>\n",
       "      <td>1</td>\n",
       "      <td>1</td>\n",
       "    </tr>\n",
       "    <tr>\n",
       "      <th>14</th>\n",
       "      <td>2</td>\n",
       "      <td>2</td>\n",
       "    </tr>\n",
       "    <tr>\n",
       "      <th>15</th>\n",
       "      <td>1</td>\n",
       "      <td>1</td>\n",
       "    </tr>\n",
       "    <tr>\n",
       "      <th>16</th>\n",
       "      <td>1</td>\n",
       "      <td>2</td>\n",
       "    </tr>\n",
       "    <tr>\n",
       "      <th>17</th>\n",
       "      <td>2</td>\n",
       "      <td>1</td>\n",
       "    </tr>\n",
       "    <tr>\n",
       "      <th>18</th>\n",
       "      <td>1</td>\n",
       "      <td>1</td>\n",
       "    </tr>\n",
       "    <tr>\n",
       "      <th>19</th>\n",
       "      <td>1</td>\n",
       "      <td>2</td>\n",
       "    </tr>\n",
       "    <tr>\n",
       "      <th>20</th>\n",
       "      <td>1</td>\n",
       "      <td>2</td>\n",
       "    </tr>\n",
       "    <tr>\n",
       "      <th>21</th>\n",
       "      <td>2</td>\n",
       "      <td>2</td>\n",
       "    </tr>\n",
       "    <tr>\n",
       "      <th>22</th>\n",
       "      <td>1</td>\n",
       "      <td>1</td>\n",
       "    </tr>\n",
       "    <tr>\n",
       "      <th>23</th>\n",
       "      <td>1</td>\n",
       "      <td>2</td>\n",
       "    </tr>\n",
       "    <tr>\n",
       "      <th>24</th>\n",
       "      <td>1</td>\n",
       "      <td>2</td>\n",
       "    </tr>\n",
       "    <tr>\n",
       "      <th>25</th>\n",
       "      <td>2</td>\n",
       "      <td>2</td>\n",
       "    </tr>\n",
       "    <tr>\n",
       "      <th>26</th>\n",
       "      <td>1</td>\n",
       "      <td>1</td>\n",
       "    </tr>\n",
       "    <tr>\n",
       "      <th>27</th>\n",
       "      <td>1</td>\n",
       "      <td>2</td>\n",
       "    </tr>\n",
       "    <tr>\n",
       "      <th>28</th>\n",
       "      <td>2</td>\n",
       "      <td>1</td>\n",
       "    </tr>\n",
       "    <tr>\n",
       "      <th>29</th>\n",
       "      <td>2</td>\n",
       "      <td>1</td>\n",
       "    </tr>\n",
       "    <tr>\n",
       "      <th>30</th>\n",
       "      <td>2</td>\n",
       "      <td>1</td>\n",
       "    </tr>\n",
       "    <tr>\n",
       "      <th>31</th>\n",
       "      <td>1</td>\n",
       "      <td>1</td>\n",
       "    </tr>\n",
       "    <tr>\n",
       "      <th>32</th>\n",
       "      <td>1</td>\n",
       "      <td>3</td>\n",
       "    </tr>\n",
       "    <tr>\n",
       "      <th>33</th>\n",
       "      <td>2</td>\n",
       "      <td>3</td>\n",
       "    </tr>\n",
       "  </tbody>\n",
       "</table>\n",
       "</div>"
      ],
      "text/plain": [
       "    Prediction  Actual\n",
       "0            1       2\n",
       "1            2       1\n",
       "2            1       2\n",
       "3            1       2\n",
       "4            2       2\n",
       "5            1       2\n",
       "6            2       3\n",
       "7            2       1\n",
       "8            1       1\n",
       "9            1       3\n",
       "10           2       2\n",
       "11           1       1\n",
       "12           2       2\n",
       "13           1       1\n",
       "14           2       2\n",
       "15           1       1\n",
       "16           1       2\n",
       "17           2       1\n",
       "18           1       1\n",
       "19           1       2\n",
       "20           1       2\n",
       "21           2       2\n",
       "22           1       1\n",
       "23           1       2\n",
       "24           1       2\n",
       "25           2       2\n",
       "26           1       1\n",
       "27           1       2\n",
       "28           2       1\n",
       "29           2       1\n",
       "30           2       1\n",
       "31           1       1\n",
       "32           1       3\n",
       "33           2       3"
      ]
     },
     "execution_count": 66,
     "metadata": {},
     "output_type": "execute_result"
    }
   ],
   "source": [
    "pd.DataFrame({\"Prediction\": predictions, \"Actual\": y_test}).reset_index(drop=True)"
   ]
  },
  {
   "cell_type": "code",
   "execution_count": 68,
   "metadata": {},
   "outputs": [],
   "source": [
    "import pickle"
   ]
  },
  {
   "cell_type": "code",
   "execution_count": 69,
   "metadata": {},
   "outputs": [],
   "source": [
    "filename = 'wine_LOGmodel.sav'\n",
    "pickle.dump(classifier, open(filename, 'wb'))"
   ]
  }
 ],
 "metadata": {
  "kernelspec": {
   "display_name": "Python 3",
   "language": "python",
   "name": "python3"
  },
  "language_info": {
   "codemirror_mode": {
    "name": "ipython",
    "version": 3
   },
   "file_extension": ".py",
   "mimetype": "text/x-python",
   "name": "python",
   "nbconvert_exporter": "python",
   "pygments_lexer": "ipython3",
   "version": "3.7.6"
  }
 },
 "nbformat": 4,
 "nbformat_minor": 2
}
