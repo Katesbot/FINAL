{
 "cells": [
  {
   "cell_type": "code",
   "execution_count": 1,
   "metadata": {},
   "outputs": [],
   "source": [
    "import pandas as pd"
   ]
  },
  {
   "cell_type": "code",
   "execution_count": 5,
   "metadata": {},
   "outputs": [
    {
     "data": {
      "text/plain": [
       "Index(['Timestamp', 'Do you agree to participate?', 'Birth Date ', 'Gender',\n",
       "       'Ethnicity ', 'Home Location', 'Education', 'Marital Status ',\n",
       "       'Please select a type of chocolate.', 'Please select a type of cheese',\n",
       "       'Please select a type of alcohol (other than wine)',\n",
       "       'How do you like your tea/coffee', 'Select a type of candy',\n",
       "       'Please choose a scent group', 'Choose a salad dressing',\n",
       "       'Choose a wine category', 'I like my wine to be.... ',\n",
       "       'From the list below, select Red Wines you enjoy',\n",
       "       'From the list below, select Rose Wines you enjoy',\n",
       "       'From the list below, select White Wines you enjoy'],\n",
       "      dtype='object')"
      ]
     },
     "execution_count": 5,
     "metadata": {},
     "output_type": "execute_result"
    }
   ],
   "source": [
    "Dataset_df = pd.read_csv(\"WineRecommendation.csv\")\n",
    "Dataset_df.columns"
   ]
  },
  {
   "cell_type": "code",
   "execution_count": 7,
   "metadata": {},
   "outputs": [],
   "source": [
    "Dataset_df_renamed = Dataset_df.rename(columns={'Do you agree to participate?': 'Agreement', 'Birth Date ': 'DOB',\n",
    "       'Home Location': 'Location','Marital Status ': 'Marital_status',\n",
    "       'Please select a type of chocolate.': 'Chocolate', 'Please select a type of cheese': 'Cheese',\n",
    "       'Please select a type of alcohol (other than wine)': 'Alcohol',\n",
    "       'How do you like your tea/coffee': 'Coffee_tea', 'Select a type of candy': 'Candy',\n",
    "       'Please choose a scent group': 'Scent', 'Choose a salad dressing': 'Dressing',\n",
    "       'Choose a wine category': 'Wine_catagory', 'I like my wine to be.... ': 'Taste_profile',\n",
    "       'From the list below, select Red Wines you enjoy': 'Red_selections',\n",
    "       'From the list below, select Rose Wines you enjoy': 'Rose_selections',\n",
    "       'From the list below, select White Wines you enjoy': 'White_selections'})"
   ]
  },
  {
   "cell_type": "code",
   "execution_count": 8,
   "metadata": {},
   "outputs": [
    {
     "data": {
      "text/html": [
       "<div>\n",
       "<style scoped>\n",
       "    .dataframe tbody tr th:only-of-type {\n",
       "        vertical-align: middle;\n",
       "    }\n",
       "\n",
       "    .dataframe tbody tr th {\n",
       "        vertical-align: top;\n",
       "    }\n",
       "\n",
       "    .dataframe thead th {\n",
       "        text-align: right;\n",
       "    }\n",
       "</style>\n",
       "<table border=\"1\" class=\"dataframe\">\n",
       "  <thead>\n",
       "    <tr style=\"text-align: right;\">\n",
       "      <th></th>\n",
       "      <th>Timestamp</th>\n",
       "      <th>Agreement</th>\n",
       "      <th>DOB</th>\n",
       "      <th>Gender</th>\n",
       "      <th>Ethnicity</th>\n",
       "      <th>Location</th>\n",
       "      <th>Education</th>\n",
       "      <th>Marital_status</th>\n",
       "      <th>Chocolate</th>\n",
       "      <th>Cheese</th>\n",
       "      <th>Alcohol</th>\n",
       "      <th>Coffee_tea</th>\n",
       "      <th>Candy</th>\n",
       "      <th>Scent</th>\n",
       "      <th>Dressing</th>\n",
       "      <th>Wine_catagory</th>\n",
       "      <th>Taste_profile</th>\n",
       "      <th>Red_selections</th>\n",
       "      <th>Rose_selections</th>\n",
       "      <th>White_selections</th>\n",
       "    </tr>\n",
       "  </thead>\n",
       "  <tbody>\n",
       "    <tr>\n",
       "      <td>0</td>\n",
       "      <td>2020/08/18 1:28:34 AM CDT</td>\n",
       "      <td>Agree</td>\n",
       "      <td>1989-09-21</td>\n",
       "      <td>Female</td>\n",
       "      <td>White / Caucasian</td>\n",
       "      <td>United States of America</td>\n",
       "      <td>Trade School</td>\n",
       "      <td>Single (Never Married)</td>\n",
       "      <td>Dark Chocolate</td>\n",
       "      <td>Firm/Semi-firm (Cheddar, Gouda, Parmesan)</td>\n",
       "      <td>Whiskey/Scotch</td>\n",
       "      <td>Tea/coffee with a little milk &amp;/or cream</td>\n",
       "      <td>Sour (Sour patch kids, Warheads, Lemonheads)</td>\n",
       "      <td>Citrus, Floral, Herbal</td>\n",
       "      <td>Vinegar/Vinaigrettes (Balsamic, Oil &amp; Vinegar,...</td>\n",
       "      <td>White</td>\n",
       "      <td>Fruity;Floral</td>\n",
       "      <td>Red - Merlot;Red - Syrah</td>\n",
       "      <td>Rose - Pink Moscato;Rose - White Merlot</td>\n",
       "      <td>White - Chardonnay;White - Pinot Grigio;White ...</td>\n",
       "    </tr>\n",
       "    <tr>\n",
       "      <td>1</td>\n",
       "      <td>2020/08/18 6:36:23 AM CDT</td>\n",
       "      <td>Agree</td>\n",
       "      <td>1990-04-23</td>\n",
       "      <td>Female</td>\n",
       "      <td>White/Caucasian</td>\n",
       "      <td>United States of America</td>\n",
       "      <td>Bachelor's Degree</td>\n",
       "      <td>Married</td>\n",
       "      <td>Dark Chocolate</td>\n",
       "      <td>Firm/Semi-firm (Cheddar, Gouda, Parmesan)</td>\n",
       "      <td>Vodka</td>\n",
       "      <td>Tea/coffee with a little milk &amp;/or cream</td>\n",
       "      <td>Fruity (Skittles, Starburst, Jolly Ranchers)</td>\n",
       "      <td>Wood, Tobacco, Musk</td>\n",
       "      <td>Vinegar/Vinaigrettes (Balsamic, Oil &amp; Vinegar,...</td>\n",
       "      <td>Red</td>\n",
       "      <td>Floral</td>\n",
       "      <td>Red - Cabernet sauvignon;Red - Pinot noir;Red ...</td>\n",
       "      <td>Rose - Pinot Noir</td>\n",
       "      <td>White - Chardonnay;White - Pinot Grigio</td>\n",
       "    </tr>\n",
       "  </tbody>\n",
       "</table>\n",
       "</div>"
      ],
      "text/plain": [
       "                   Timestamp Agreement         DOB  Gender         Ethnicity   \\\n",
       "0  2020/08/18 1:28:34 AM CDT     Agree  1989-09-21  Female  White / Caucasian   \n",
       "1  2020/08/18 6:36:23 AM CDT     Agree  1990-04-23  Female    White/Caucasian   \n",
       "\n",
       "                   Location          Education          Marital_status  \\\n",
       "0  United States of America       Trade School  Single (Never Married)   \n",
       "1  United States of America  Bachelor's Degree                 Married   \n",
       "\n",
       "        Chocolate                                     Cheese         Alcohol  \\\n",
       "0  Dark Chocolate  Firm/Semi-firm (Cheddar, Gouda, Parmesan)  Whiskey/Scotch   \n",
       "1  Dark Chocolate  Firm/Semi-firm (Cheddar, Gouda, Parmesan)           Vodka   \n",
       "\n",
       "                                 Coffee_tea  \\\n",
       "0  Tea/coffee with a little milk &/or cream   \n",
       "1  Tea/coffee with a little milk &/or cream   \n",
       "\n",
       "                                          Candy                   Scent  \\\n",
       "0  Sour (Sour patch kids, Warheads, Lemonheads)  Citrus, Floral, Herbal   \n",
       "1  Fruity (Skittles, Starburst, Jolly Ranchers)     Wood, Tobacco, Musk   \n",
       "\n",
       "                                            Dressing Wine_catagory  \\\n",
       "0  Vinegar/Vinaigrettes (Balsamic, Oil & Vinegar,...         White   \n",
       "1  Vinegar/Vinaigrettes (Balsamic, Oil & Vinegar,...           Red   \n",
       "\n",
       "   Taste_profile                                     Red_selections  \\\n",
       "0  Fruity;Floral                           Red - Merlot;Red - Syrah   \n",
       "1         Floral  Red - Cabernet sauvignon;Red - Pinot noir;Red ...   \n",
       "\n",
       "                           Rose_selections  \\\n",
       "0  Rose - Pink Moscato;Rose - White Merlot   \n",
       "1                        Rose - Pinot Noir   \n",
       "\n",
       "                                    White_selections  \n",
       "0  White - Chardonnay;White - Pinot Grigio;White ...  \n",
       "1            White - Chardonnay;White - Pinot Grigio  "
      ]
     },
     "execution_count": 8,
     "metadata": {},
     "output_type": "execute_result"
    }
   ],
   "source": [
    "Dataset_df_renamed.head()"
   ]
  },
  {
   "cell_type": "code",
   "execution_count": null,
   "metadata": {},
   "outputs": [],
   "source": []
  }
 ],
 "metadata": {
  "kernelspec": {
   "display_name": "Python 3",
   "language": "python",
   "name": "python3"
  },
  "language_info": {
   "codemirror_mode": {
    "name": "ipython",
    "version": 3
   },
   "file_extension": ".py",
   "mimetype": "text/x-python",
   "name": "python",
   "nbconvert_exporter": "python",
   "pygments_lexer": "ipython3",
   "version": "3.7.4"
  }
 },
 "nbformat": 4,
 "nbformat_minor": 2
}
