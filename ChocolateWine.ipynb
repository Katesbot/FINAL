{
 "cells": [
  {
   "cell_type": "code",
   "execution_count": 1,
   "metadata": {},
   "outputs": [],
   "source": [
    "import pandas as pd\n",
    "from pandas import DataFrame\n",
    "from sqlalchemy import create_engine"
   ]
  },
  {
   "cell_type": "code",
   "execution_count": 12,
   "metadata": {},
   "outputs": [
    {
     "data": {
      "text/html": [
       "<div>\n",
       "<style scoped>\n",
       "    .dataframe tbody tr th:only-of-type {\n",
       "        vertical-align: middle;\n",
       "    }\n",
       "\n",
       "    .dataframe tbody tr th {\n",
       "        vertical-align: top;\n",
       "    }\n",
       "\n",
       "    .dataframe thead th {\n",
       "        text-align: right;\n",
       "    }\n",
       "</style>\n",
       "<table border=\"1\" class=\"dataframe\">\n",
       "  <thead>\n",
       "    <tr style=\"text-align: right;\">\n",
       "      <th></th>\n",
       "      <th>DarkChocolate</th>\n",
       "      <th>MilkChocolate</th>\n",
       "      <th>WhiteChocolate</th>\n",
       "      <th>Wine</th>\n",
       "    </tr>\n",
       "  </thead>\n",
       "  <tbody>\n",
       "    <tr>\n",
       "      <th>0</th>\n",
       "      <td>1</td>\n",
       "      <td>0</td>\n",
       "      <td>0</td>\n",
       "      <td>Red</td>\n",
       "    </tr>\n",
       "    <tr>\n",
       "      <th>1</th>\n",
       "      <td>0</td>\n",
       "      <td>1</td>\n",
       "      <td>0</td>\n",
       "      <td>White</td>\n",
       "    </tr>\n",
       "    <tr>\n",
       "      <th>2</th>\n",
       "      <td>0</td>\n",
       "      <td>0</td>\n",
       "      <td>1</td>\n",
       "      <td>Rose</td>\n",
       "    </tr>\n",
       "  </tbody>\n",
       "</table>\n",
       "</div>"
      ],
      "text/plain": [
       "   DarkChocolate  MilkChocolate  WhiteChocolate   Wine\n",
       "0              1              0               0    Red\n",
       "1              0              1               0  White\n",
       "2              0              0               1   Rose"
      ]
     },
     "execution_count": 12,
     "metadata": {},
     "output_type": "execute_result"
    }
   ],
   "source": [
    "ChocolateWine = \"ChocolateWine.csv\"\n",
    "ChocolateWine_df = pd.read_csv(ChocolateWine)\n",
    "ChocolateWine_df.head()"
   ]
  },
  {
   "cell_type": "code",
   "execution_count": 13,
   "metadata": {},
   "outputs": [
    {
     "data": {
      "text/html": [
       "<div>\n",
       "<style scoped>\n",
       "    .dataframe tbody tr th:only-of-type {\n",
       "        vertical-align: middle;\n",
       "    }\n",
       "\n",
       "    .dataframe tbody tr th {\n",
       "        vertical-align: top;\n",
       "    }\n",
       "\n",
       "    .dataframe thead th {\n",
       "        text-align: right;\n",
       "    }\n",
       "</style>\n",
       "<table border=\"1\" class=\"dataframe\">\n",
       "  <thead>\n",
       "    <tr style=\"text-align: right;\">\n",
       "      <th></th>\n",
       "      <th>Wine</th>\n",
       "    </tr>\n",
       "  </thead>\n",
       "  <tbody>\n",
       "    <tr>\n",
       "      <th>0</th>\n",
       "      <td>Red</td>\n",
       "    </tr>\n",
       "    <tr>\n",
       "      <th>1</th>\n",
       "      <td>White</td>\n",
       "    </tr>\n",
       "    <tr>\n",
       "      <th>2</th>\n",
       "      <td>Rose</td>\n",
       "    </tr>\n",
       "  </tbody>\n",
       "</table>\n",
       "</div>"
      ],
      "text/plain": [
       "    Wine\n",
       "0    Red\n",
       "1  White\n",
       "2   Rose"
      ]
     },
     "execution_count": 13,
     "metadata": {},
     "output_type": "execute_result"
    }
   ],
   "source": [
    "wine = (\"Red\",\"White\",\"Rose\")\n",
    "wine_df = DataFrame(wine,columns=['Wine'])\n",
    "wine_df"
   ]
  },
  {
   "cell_type": "code",
   "execution_count": 14,
   "metadata": {},
   "outputs": [
    {
     "data": {
      "text/html": [
       "<div>\n",
       "<style scoped>\n",
       "    .dataframe tbody tr th:only-of-type {\n",
       "        vertical-align: middle;\n",
       "    }\n",
       "\n",
       "    .dataframe tbody tr th {\n",
       "        vertical-align: top;\n",
       "    }\n",
       "\n",
       "    .dataframe thead th {\n",
       "        text-align: right;\n",
       "    }\n",
       "</style>\n",
       "<table border=\"1\" class=\"dataframe\">\n",
       "  <thead>\n",
       "    <tr style=\"text-align: right;\">\n",
       "      <th></th>\n",
       "      <th>Chocolate</th>\n",
       "    </tr>\n",
       "  </thead>\n",
       "  <tbody>\n",
       "    <tr>\n",
       "      <th>0</th>\n",
       "      <td>DarkChocolate</td>\n",
       "    </tr>\n",
       "    <tr>\n",
       "      <th>1</th>\n",
       "      <td>MilkChocolate</td>\n",
       "    </tr>\n",
       "    <tr>\n",
       "      <th>2</th>\n",
       "      <td>WhiteChocolate</td>\n",
       "    </tr>\n",
       "  </tbody>\n",
       "</table>\n",
       "</div>"
      ],
      "text/plain": [
       "        Chocolate\n",
       "0   DarkChocolate\n",
       "1   MilkChocolate\n",
       "2  WhiteChocolate"
      ]
     },
     "execution_count": 14,
     "metadata": {},
     "output_type": "execute_result"
    }
   ],
   "source": [
    "chocolate = (\"DarkChocolate\", \"MilkChocolate\", \"WhiteChocolate\")\n",
    "chocolate_df = DataFrame(chocolate,columns=[\"Chocolate\"])\n",
    "chocolate_df"
   ]
  },
  {
   "cell_type": "code",
   "execution_count": 15,
   "metadata": {},
   "outputs": [
    {
     "data": {
      "text/html": [
       "<div>\n",
       "<style scoped>\n",
       "    .dataframe tbody tr th:only-of-type {\n",
       "        vertical-align: middle;\n",
       "    }\n",
       "\n",
       "    .dataframe tbody tr th {\n",
       "        vertical-align: top;\n",
       "    }\n",
       "\n",
       "    .dataframe thead th {\n",
       "        text-align: right;\n",
       "    }\n",
       "</style>\n",
       "<table border=\"1\" class=\"dataframe\">\n",
       "  <thead>\n",
       "    <tr style=\"text-align: right;\">\n",
       "      <th></th>\n",
       "      <th>Type</th>\n",
       "      <th>Variety</th>\n",
       "      <th>Description</th>\n",
       "    </tr>\n",
       "  </thead>\n",
       "  <tbody>\n",
       "    <tr>\n",
       "      <th>0</th>\n",
       "      <td>White</td>\n",
       "      <td>Chardonnay</td>\n",
       "      <td>Fruity buttery with a velvety feel thats atypi...</td>\n",
       "    </tr>\n",
       "    <tr>\n",
       "      <th>1</th>\n",
       "      <td>White</td>\n",
       "      <td>Pinot Grigio</td>\n",
       "      <td>Simple light bodied dry and crisp</td>\n",
       "    </tr>\n",
       "    <tr>\n",
       "      <th>2</th>\n",
       "      <td>White</td>\n",
       "      <td>Riesling</td>\n",
       "      <td>Usually very sweet with intense fruit flavors ...</td>\n",
       "    </tr>\n",
       "    <tr>\n",
       "      <th>3</th>\n",
       "      <td>White</td>\n",
       "      <td>Moscato</td>\n",
       "      <td>Fruity and often sweet</td>\n",
       "    </tr>\n",
       "    <tr>\n",
       "      <th>4</th>\n",
       "      <td>White</td>\n",
       "      <td>Sauvignon blanc</td>\n",
       "      <td>Dry tart and acidic with herbal flavors as wel...</td>\n",
       "    </tr>\n",
       "  </tbody>\n",
       "</table>\n",
       "</div>"
      ],
      "text/plain": [
       "    Type          Variety                                        Description\n",
       "0  White       Chardonnay  Fruity buttery with a velvety feel thats atypi...\n",
       "1  White     Pinot Grigio                  Simple light bodied dry and crisp\n",
       "2  White         Riesling  Usually very sweet with intense fruit flavors ...\n",
       "3  White          Moscato                            Fruity and often sweet \n",
       "4  White  Sauvignon blanc  Dry tart and acidic with herbal flavors as wel..."
      ]
     },
     "execution_count": 15,
     "metadata": {},
     "output_type": "execute_result"
    }
   ],
   "source": [
    "WineDescriptions = \"WineDescriptions.csv\"\n",
    "WineDescriptions_df = pd.read_csv(WineDescriptions,encoding= 'unicode_escape')\n",
    "WineDescriptions_df.head()"
   ]
  },
  {
   "cell_type": "code",
   "execution_count": 16,
   "metadata": {},
   "outputs": [],
   "source": [
    "WhiteWine_df = WineDescriptions_df.loc[WineDescriptions_df['Type'] == \"White\"]\n",
    "RedWine_df = WineDescriptions_df.loc[WineDescriptions_df['Type'] == \"Red\"]\n",
    "RoseWine_df = WineDescriptions_df.loc[WineDescriptions_df['Type'] == \"Rose\"]"
   ]
  },
  {
   "cell_type": "code",
   "execution_count": 17,
   "metadata": {},
   "outputs": [],
   "source": [
    "WhiteWineDesc = WhiteWine_df['Description'].tolist()\n",
    "WhiteWineDesc_df = DataFrame(WhiteWineDesc,columns=[\"WhiteWineDesc\"])\n",
    "RedWineDesc = RedWine_df['Description'].tolist()\n",
    "RedWineDesc_df = DataFrame(RedWineDesc,columns=[\"RedWineDesc\"])\n",
    "RoseWineDesc = RoseWine_df['Description'].tolist()\n",
    "RoseWineDesc_df = DataFrame(RoseWineDesc,columns=[\"RoseWineDesc\"])"
   ]
  },
  {
   "cell_type": "code",
   "execution_count": 18,
   "metadata": {},
   "outputs": [],
   "source": [
    "connection_string = \"postgres:postgres@localhost:5432/MoreWineeeee\"\n",
    "engine = create_engine(f'postgresql://{connection_string}')\n",
    "engine.table_names()\n",
    "\n",
    "ChocolateWine_df.to_sql(name='chocolatewine', con=engine, if_exists='append', index=True)\n",
    "wine_df.to_sql(name='wine', con=engine, if_exists='append', index=True)\n",
    "chocolate_df.to_sql(name='chocolate', con=engine, if_exists='append', index=True)\n",
    "WineDescriptions_df.to_sql(name='winedescriptions', con=engine, if_exists='append', index=True)\n",
    "WhiteWine_df.to_sql(name='whitewine', con=engine, if_exists='append', index=True)\n",
    "RedWine_df.to_sql(name='redwine', con=engine, if_exists='append', index=True)\n",
    "RoseWine_df.to_sql(name='rosewine', con=engine, if_exists='append', index=True)\n",
    "WhiteWineDesc_df.to_sql(name='whitewinedesc', con=engine, if_exists='append', index=True)\n",
    "RedWineDesc_df.to_sql(name='redwinedesc', con=engine, if_exists='append', index=True)\n",
    "RoseWineDesc_df.to_sql(name='rosewinedesc', con=engine, if_exists='append', index=True)"
   ]
  },
  {
   "cell_type": "code",
   "execution_count": 2,
   "metadata": {},
   "outputs": [
    {
     "data": {
      "text/html": [
       "<div>\n",
       "<style scoped>\n",
       "    .dataframe tbody tr th:only-of-type {\n",
       "        vertical-align: middle;\n",
       "    }\n",
       "\n",
       "    .dataframe tbody tr th {\n",
       "        vertical-align: top;\n",
       "    }\n",
       "\n",
       "    .dataframe thead th {\n",
       "        text-align: right;\n",
       "    }\n",
       "</style>\n",
       "<table border=\"1\" class=\"dataframe\">\n",
       "  <thead>\n",
       "    <tr style=\"text-align: right;\">\n",
       "      <th></th>\n",
       "      <th>Type</th>\n",
       "      <th>Content</th>\n",
       "      <th>Low</th>\n",
       "      <th>High</th>\n",
       "    </tr>\n",
       "  </thead>\n",
       "  <tbody>\n",
       "    <tr>\n",
       "      <th>0</th>\n",
       "      <td>Red</td>\n",
       "      <td>14%</td>\n",
       "      <td>12%</td>\n",
       "      <td>15%</td>\n",
       "    </tr>\n",
       "    <tr>\n",
       "      <th>1</th>\n",
       "      <td>White</td>\n",
       "      <td>10%</td>\n",
       "      <td>5%</td>\n",
       "      <td>14%</td>\n",
       "    </tr>\n",
       "    <tr>\n",
       "      <th>2</th>\n",
       "      <td>Rose</td>\n",
       "      <td>12%</td>\n",
       "      <td>5%</td>\n",
       "      <td>14%</td>\n",
       "    </tr>\n",
       "  </tbody>\n",
       "</table>\n",
       "</div>"
      ],
      "text/plain": [
       "    Type Content  Low High\n",
       "0    Red     14%  12%  15%\n",
       "1  White     10%   5%  14%\n",
       "2   Rose     12%   5%  14%"
      ]
     },
     "execution_count": 2,
     "metadata": {},
     "output_type": "execute_result"
    }
   ],
   "source": [
    "WineContent = \"wineContent.csv\"\n",
    "WineContent_df = pd.read_csv(WineContent)\n",
    "WineContent_df.head()"
   ]
  },
  {
   "cell_type": "code",
   "execution_count": 3,
   "metadata": {},
   "outputs": [],
   "source": [
    "connection_string = \"postgres:postgres@localhost:5432/MoreWineeeee\"\n",
    "engine = create_engine(f'postgresql://{connection_string}')\n",
    "engine.table_names()\n",
    "\n",
    "WineContent_df.to_sql(name='winecontent', con=engine, if_exists='append', index=True)"
   ]
  },
  {
   "cell_type": "code",
   "execution_count": null,
   "metadata": {},
   "outputs": [],
   "source": []
  }
 ],
 "metadata": {
  "kernelspec": {
   "display_name": "Python 3",
   "language": "python",
   "name": "python3"
  },
  "language_info": {
   "codemirror_mode": {
    "name": "ipython",
    "version": 3
   },
   "file_extension": ".py",
   "mimetype": "text/x-python",
   "name": "python",
   "nbconvert_exporter": "python",
   "pygments_lexer": "ipython3",
   "version": "3.7.6"
  }
 },
 "nbformat": 4,
 "nbformat_minor": 4
}
